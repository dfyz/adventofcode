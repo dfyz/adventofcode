{
 "cells": [
  {
   "cell_type": "markdown",
   "id": "a29656c7",
   "metadata": {},
   "source": [
    "## Day 01"
   ]
  },
  {
   "cell_type": "code",
   "execution_count": 1,
   "id": "7630cb69",
   "metadata": {},
   "outputs": [],
   "source": [
    "nums = parse.(Int, readlines(\"01.txt\"))\n",
    "@assert nums[end] == 10044"
   ]
  },
  {
   "cell_type": "code",
   "execution_count": 2,
   "id": "80ae91f7",
   "metadata": {},
   "outputs": [
    {
     "data": {
      "text/plain": [
       "count_increasing (generic function with 1 method)"
      ]
     },
     "execution_count": 2,
     "metadata": {},
     "output_type": "execute_result"
    }
   ],
   "source": [
    "function window_sum(idx, window_size)\n",
    "    sum(nums[idx - window_size + 1:idx])\n",
    "end\n",
    "\n",
    "function count_increasing(window_size)\n",
    "    result = 0\n",
    "    for idx in window_size + 1:length(nums)\n",
    "        if window_sum(idx, window_size) > window_sum(idx - 1, window_size)\n",
    "            result += 1\n",
    "        end\n",
    "    end\n",
    "    result\n",
    "end"
   ]
  },
  {
   "cell_type": "code",
   "execution_count": 3,
   "id": "5ec952f8",
   "metadata": {},
   "outputs": [
    {
     "name": "stdout",
     "output_type": "stream",
     "text": [
      "easy: 1715\n",
      "hard: 1739\n"
     ]
    }
   ],
   "source": [
    "println(\"easy: \", count_increasing(1))\n",
    "println(\"hard: \", count_increasing(3))"
   ]
  },
  {
   "cell_type": "markdown",
   "id": "3a569f21",
   "metadata": {},
   "source": [
    "## Day 02"
   ]
  },
  {
   "cell_type": "code",
   "execution_count": 4,
   "id": "a327e75a",
   "metadata": {},
   "outputs": [
    {
     "data": {
      "text/plain": [
       "move_submarine (generic function with 1 method)"
      ]
     },
     "execution_count": 4,
     "metadata": {},
     "output_type": "execute_result"
    }
   ],
   "source": [
    "lines = readlines(\"02.txt\")\n",
    "\n",
    "function move_submarine(is_hard)\n",
    "    Δx, Δy = 0, 0\n",
    "    aim = 0\n",
    "\n",
    "    for line in lines\n",
    "        action, arg = split(line)\n",
    "        arg = parse(Int, arg)\n",
    "\n",
    "        if action == \"forward\"\n",
    "            Δx += arg\n",
    "            Δy += aim * arg\n",
    "        else\n",
    "            inc = action == \"down\" ? arg : -arg\n",
    "            if is_hard\n",
    "                aim += inc\n",
    "            else\n",
    "                Δy += inc\n",
    "            end\n",
    "        end\n",
    "    end\n",
    "    \n",
    "    Δx * Δy\n",
    "end"
   ]
  },
  {
   "cell_type": "code",
   "execution_count": 5,
   "id": "e8ca9ae0",
   "metadata": {},
   "outputs": [
    {
     "name": "stdout",
     "output_type": "stream",
     "text": [
      "easy: 1714950\n",
      "hard: 1281977850\n"
     ]
    }
   ],
   "source": [
    "println(\"easy: \", move_submarine(false))\n",
    "println(\"hard: \", move_submarine(true))"
   ]
  },
  {
   "cell_type": "markdown",
   "id": "707c5249",
   "metadata": {},
   "source": [
    "## Day 03\n",
    "\n",
    "`mcb` stands for Most Common Bit. "
   ]
  },
  {
   "cell_type": "code",
   "execution_count": 6,
   "id": "b89219c0",
   "metadata": {},
   "outputs": [
    {
     "name": "stdout",
     "output_type": "stream",
     "text": [
      "easy: 2640986\n",
      "hard: 6822109\n"
     ]
    }
   ],
   "source": [
    "lines = readlines(\"03.txt\")\n",
    "n_bits = length(lines[1])\n",
    "all_nums = reduce(vcat, permutedims.(collect.(lines)))\n",
    "\n",
    "function get_mcb(nums, bit_idx, should_invert)\n",
    "    n_ones = count(==('1'), nums[:, bit_idx])\n",
    "    ones_are_mcb = 2 * n_ones >= size(nums, 1)\n",
    "    (ones_are_mcb ⊻ should_invert) ? '1' : '0'\n",
    "end\n",
    "\n",
    "from_chars(x) = parse(Int, join(x), base=2)\n",
    "\n",
    "function day03_easy()\n",
    "    function get_rate(should_invert)\n",
    "        from_chars([\n",
    "            get_mcb(all_nums, bit_idx, should_invert)\n",
    "            for bit_idx in 1:n_bits\n",
    "        ])\n",
    "    end\n",
    "\n",
    "    γ_rate = get_rate(false)\n",
    "    ϵ_rate = get_rate(true)\n",
    "    γ_rate * ϵ_rate\n",
    "end\n",
    "\n",
    "function day03_hard()\n",
    "    function get_rating(should_invert)\n",
    "        cur_nums = all_nums\n",
    "        bit_idx = 1\n",
    "\n",
    "        while size(cur_nums, 1) > 1\n",
    "            needed_bit = get_mcb(cur_nums, bit_idx, should_invert)\n",
    "            cur_nums = cur_nums[cur_nums[:, bit_idx] .== needed_bit, :]\n",
    "            bit_idx += 1\n",
    "        end\n",
    "        \n",
    "        from_chars(cur_nums)\n",
    "    end\n",
    "    \n",
    "    o₂_rating = get_rating(false)\n",
    "    co₂_rating = get_rating(true)\n",
    "    o₂_rating * co₂_rating\n",
    "end\n",
    "\n",
    "println(\"easy: \", day03_easy())\n",
    "println(\"hard: \", day03_hard())"
   ]
  },
  {
   "cell_type": "markdown",
   "id": "c7ba838e",
   "metadata": {},
   "source": [
    "## Day 04\n",
    "\n",
    "Keep the board states in a `5 x 5 x BOARD_COUNT` array. When a number `N` is drawn, replace all occurrences of `N` with `-1`."
   ]
  },
  {
   "cell_type": "code",
   "execution_count": 7,
   "id": "f1dd95c4",
   "metadata": {},
   "outputs": [
    {
     "name": "stdout",
     "output_type": "stream",
     "text": [
      "easy: 44088\n",
      "hard: 23670\n"
     ]
    }
   ],
   "source": [
    "using DelimitedFiles\n",
    "\n",
    "const N = 5\n",
    "\n",
    "day04_file = open(\"04.txt\")\n",
    "numbers = parse.(Int, split(readline(day04_file), ','))\n",
    "boards = permutedims(\n",
    "    reshape(readdlm(day04_file, Int), N, :, N),\n",
    "    (1, 3, 2),\n",
    ")\n",
    "\n",
    "function wins(board_idx)\n",
    "    any(\n",
    "        all(boards[:, idx, board_idx] .< 0) || all(boards[idx, :, board_idx] .< 0)\n",
    "        for idx in 1:N\n",
    "    )\n",
    "end\n",
    "\n",
    "function score(board_idx, drawn_number)\n",
    "    drawn_number * sum(filter(>=(0), boards[:, :, board_idx]))\n",
    "end\n",
    "\n",
    "live_boards = Set(1:size(boards, 3))\n",
    "easy_answer, hard_answer = nothing, nothing\n",
    "for num in numbers\n",
    "    boards[boards .== num] .= -1\n",
    "    winning_boards = Set(idx for idx in live_boards if wins(idx))\n",
    "    if length(winning_boards) == 1\n",
    "        current_score = score(first(winning_boards), num)\n",
    "        if isnothing(easy_answer)\n",
    "            easy_answer = current_score\n",
    "        end\n",
    "        hard_answer = current_score\n",
    "    end\n",
    "    setdiff!(live_boards, winning_boards)\n",
    "end\n",
    "\n",
    "println(\"easy: \", easy_answer)\n",
    "println(\"hard: \", hard_answer)"
   ]
  },
  {
   "cell_type": "markdown",
   "id": "941a25de",
   "metadata": {},
   "source": [
    "## Day 05"
   ]
  },
  {
   "cell_type": "code",
   "execution_count": 8,
   "id": "c56d1f82",
   "metadata": {},
   "outputs": [
    {
     "name": "stdout",
     "output_type": "stream",
     "text": [
      "easy: 5585\n",
      "hard: 17193\n"
     ]
    }
   ],
   "source": [
    "segments = open(\"05.txt\") do f\n",
    "    map(readlines(f)) do line\n",
    "        split(line, \" -> \") .|> x -> split(x, \",\") .|> x -> parse(Int, x)\n",
    "    end\n",
    "end\n",
    "\n",
    "function count_overlaps(include_diagonals)\n",
    "    counts = Dict()\n",
    "    \n",
    "    function add_point(x, y)\n",
    "        counts[(x, y)] = get!(counts, (x, y), 0) + 1\n",
    "    end\n",
    "    \n",
    "    for ((x1, y1), (x2, y2)) in segments\n",
    "        Δx, Δy = sign(x2 - x1), sign(y2 - y1)\n",
    "        if include_diagonals || (Δx == 0 || Δy == 0)\n",
    "            while x1 != x2 || y1 != y2\n",
    "                add_point(x1, y1)\n",
    "                x1 += Δx\n",
    "                y1 += Δy\n",
    "            end\n",
    "            add_point(x1, y1)\n",
    "        end\n",
    "    end\n",
    "    \n",
    "    count(>(1), values(counts))\n",
    "end\n",
    "\n",
    "\n",
    "println(\"easy: \", count_overlaps(false))\n",
    "println(\"hard: \", count_overlaps(true))"
   ]
  },
  {
   "cell_type": "markdown",
   "id": "f104d77b",
   "metadata": {},
   "source": [
    "## Day 06"
   ]
  },
  {
   "cell_type": "code",
   "execution_count": 9,
   "id": "77d1b102",
   "metadata": {},
   "outputs": [
    {
     "name": "stdout",
     "output_type": "stream",
     "text": [
      "easy: 380758\n",
      "hard: 1710623015163\n"
     ]
    }
   ],
   "source": [
    "set_count(counts, idx, val) = counts[idx + 1] = val\n",
    "get_count(counts, idx) = counts[idx + 1]\n",
    "inc_count(counts, idx, by) = set_count(counts, idx, by + get_count(counts, idx))\n",
    "\n",
    "function initial_counts()\n",
    "    res = zeros(Int, 9)\n",
    "    for f in parse.(Int, split(readline(\"06.txt\"), ','))\n",
    "        inc_count(res, f, 1)\n",
    "    end\n",
    "    res\n",
    "end\n",
    "\n",
    "function step(counts)\n",
    "    res = [\n",
    "        get_count(counts, mod(idx + 1, 9))\n",
    "        for idx in 0:8\n",
    "    ]\n",
    "    inc_count(res, 6, get_count(counts, 0))\n",
    "    res\n",
    "end\n",
    "\n",
    "function iterate_steps(n)\n",
    "    res = initial_counts()\n",
    "    for _ in 1:n\n",
    "        res = step(res)\n",
    "    end\n",
    "    sum(res)\n",
    "end\n",
    "\n",
    "println(\"easy: \", iterate_steps(80))\n",
    "println(\"hard: \", iterate_steps(256))"
   ]
  },
  {
   "cell_type": "markdown",
   "id": "17ff0506",
   "metadata": {},
   "source": [
    "## Day 07"
   ]
  },
  {
   "cell_type": "code",
   "execution_count": 10,
   "id": "6b380547",
   "metadata": {},
   "outputs": [
    {
     "name": "stdout",
     "output_type": "stream",
     "text": [
      "easy: 347449\n",
      "hard: 98039527\n"
     ]
    }
   ],
   "source": [
    "crabs = parse.(Int, split(readline(\"07.txt\"), \",\"))\n",
    "lo, hi = extrema(crabs)\n",
    "\n",
    "function get_location(cost_func)\n",
    "    minimum(\n",
    "        pos -> sum(\n",
    "            cost_func(abs(pos - cr))\n",
    "            for cr in crabs\n",
    "        ),\n",
    "        lo:hi\n",
    "    )\n",
    "end\n",
    "\n",
    "println(\"easy: \", get_location(identity))\n",
    "println(\"hard: \", get_location(x -> x * (x + 1) ÷ 2))"
   ]
  },
  {
   "cell_type": "markdown",
   "id": "7cd7a84a",
   "metadata": {},
   "source": [
    "## Day 08\n",
    "\n",
    "0. We know the patterns for `1`, `4`, `7`, and `8`.\n",
    "1. **a** is connected to the difference between the patterns for `1` and `7`.\n",
    "2. `d` and `g` are connected to the common segments (excluding `a`) among 5-segment digits (`2`, `3`, `5`). **d** should be present in `4`, as opposed to **g**.\n",
    "3. `b` and `d` are present in `4`, but not in `1`. We now know `d`, which means we can determine **b**.\n",
    "4. The intersection of 6-segment digits (`0`, `6`, `9`) contains `a`, `b`, `f`, `g`. We can now uniquely determine **f**, since we know `a`, `b`, and `g`.\n",
    "5. The intersection of `1` and `7` is `c` and `f`. We know `f`, hence we can determine **c**.\n",
    "6. Finally, as we have uniquely determined every segment except `e`, we can determine what **e** is by intersecting `8` (which contains all segments) and the segments we know."
   ]
  },
  {
   "cell_type": "code",
   "execution_count": 35,
   "id": "0fa8b3aa",
   "metadata": {},
   "outputs": [
    {
     "name": "stdout",
     "output_type": "stream",
     "text": [
      "easy: 310\n",
      "hard: 915941\n"
     ]
    }
   ],
   "source": [
    "function parse_line(line)\n",
    "    patterns, digits = split(line, \" | \")\n",
    "    Set.(split(patterns)), split(digits)\n",
    "end\n",
    "\n",
    "day08_input = map(parse_line, readlines(\"08.txt\"))\n",
    "\n",
    "function figure_out_signals(patterns)\n",
    "    pattern_by_len(len) = filter(x -> length(x) == len, patterns)\n",
    "    \n",
    "    p1, p4, p7, p8 = map(x -> first(pattern_by_len(x)), [2, 4, 3, 7])\n",
    "    p235 = pattern_by_len(5)\n",
    "    p069 = pattern_by_len(6)\n",
    "    \n",
    "    sig = Dict()\n",
    "    sig['a'] = setdiff(p7, p1)\n",
    "    sig_dg = setdiff(∩(p235...), sig['a'])\n",
    "    sig['d'] = ∩(sig_dg, p4)\n",
    "    sig['g'] = setdiff(sig_dg, sig['d'])\n",
    "    sig['b'] = setdiff(p4, p1, sig['d'])\n",
    "    sig['f'] = setdiff(∩(p069...), sig['a'], sig['b'], sig['g'])\n",
    "    sig['c'] = setdiff(∩(p1, p7), sig['f'])\n",
    "    sig['e'] = setdiff(p8, ∪(values(sig)...))\n",
    "    \n",
    "    Dict(\n",
    "        first(v) => k\n",
    "        for (k, v) in pairs(sig)\n",
    "    )\n",
    "end\n",
    "\n",
    "function get_displayed_value(patterns, digits)\n",
    "    lit_segments_to_digit = Dict(\n",
    "        Set(\"abcefg\") => 0,\n",
    "        Set(\"cf\") => 1,\n",
    "        Set(\"acdeg\") => 2,\n",
    "        Set(\"acdfg\") => 3,\n",
    "        Set(\"bcdf\") => 4,\n",
    "        Set(\"abdfg\") => 5,\n",
    "        Set(\"abdefg\") => 6,\n",
    "        Set(\"acf\") => 7,\n",
    "        Set(\"abcdefg\") => 8,\n",
    "        Set(\"abcdfg\") => 9,\n",
    "    )\n",
    "\n",
    "    sig = figure_out_signals(patterns)\n",
    "\n",
    "    join(\n",
    "        map(digits) do d\n",
    "            lit_segments_to_digit[Set(join(sig[ch] for ch in d))]\n",
    "        end\n",
    "    )\n",
    "end\n",
    "\n",
    "easy_answer, hard_answer = 0, 0\n",
    "for (patterns, digits) in day08_input\n",
    "    displayed = get_displayed_value(patterns, digits)\n",
    "    easy_answer += sum(collect(displayed) .∈ Ref(['1', '4', '7', '8']))\n",
    "    hard_answer += parse(Int, displayed)\n",
    "end\n",
    "\n",
    "println(\"easy: \", easy_answer)\n",
    "println(\"hard: \", hard_answer)"
   ]
  },
  {
   "cell_type": "markdown",
   "id": "aea10689",
   "metadata": {},
   "source": [
    "## Day 09"
   ]
  },
  {
   "cell_type": "code",
   "execution_count": 100,
   "id": "5f200cb2",
   "metadata": {},
   "outputs": [
    {
     "name": "stdout",
     "output_type": "stream",
     "text": [
      "easy: 572\n",
      "hard: 847044\n"
     ]
    }
   ],
   "source": [
    "heightmap = parse.(Int, reduce(vcat, permutedims.(collect.(readlines(\"09.txt\")))))\n",
    "\n",
    "DELTAS = \n",
    "\n",
    "function get_adjacent(center)\n",
    "    candidates = [\n",
    "        center + CartesianIndex(delta)\n",
    "        for delta in (\n",
    "            (0, 1),\n",
    "            (0, -1),\n",
    "            (1, 0),\n",
    "            (-1, 0),\n",
    "        )\n",
    "    ]\n",
    "    filter(candidates) do adj\n",
    "        checkbounds(Bool, heightmap, adj)\n",
    "    end\n",
    "end\n",
    "\n",
    "function get_basin_size(center, visited)\n",
    "    if center ∈ visited || heightmap[center] == 9\n",
    "        return 0\n",
    "    end\n",
    "\n",
    "    push!(visited, center)\n",
    "\n",
    "    1 + sum(\n",
    "        get_basin_size(adj, visited)\n",
    "        for adj in get_adjacent(center)\n",
    "    )\n",
    "end\n",
    "\n",
    "easy_answer = 0\n",
    "basin_sizes = []\n",
    "for center in CartesianIndices(heightmap)\n",
    "    risk_level = heightmap[center]\n",
    "    is_low_point = all(\n",
    "        heightmap[adj] > risk_level\n",
    "        for adj in get_adjacent(center)\n",
    "    )\n",
    "    \n",
    "    if is_low_point\n",
    "        easy_answer += 1 + risk_level\n",
    "        push!(basin_sizes, get_basin_size(center, Set()))\n",
    "    end\n",
    "end\n",
    "\n",
    "sort!(basin_sizes, rev=true)\n",
    "\n",
    "println(\"easy: \", easy_answer)\n",
    "println(\"hard: \", prod(basin_sizes[1:3]))"
   ]
  }
 ],
 "metadata": {
  "kernelspec": {
   "display_name": "Julia 1.7.1",
   "language": "julia",
   "name": "julia-1.7"
  },
  "language_info": {
   "file_extension": ".jl",
   "mimetype": "application/julia",
   "name": "julia",
   "version": "1.7.1"
  }
 },
 "nbformat": 4,
 "nbformat_minor": 5
}

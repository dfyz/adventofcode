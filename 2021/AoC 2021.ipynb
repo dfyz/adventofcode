{
 "cells": [
  {
   "cell_type": "markdown",
   "id": "a29656c7",
   "metadata": {},
   "source": [
    "## Day 01"
   ]
  },
  {
   "cell_type": "code",
   "execution_count": 1,
   "id": "7630cb69",
   "metadata": {},
   "outputs": [],
   "source": [
    "nums = parse.(Int, readlines(\"01.txt\"))\n",
    "@assert nums[end] == 10044"
   ]
  },
  {
   "cell_type": "code",
   "execution_count": 2,
   "id": "80ae91f7",
   "metadata": {},
   "outputs": [
    {
     "data": {
      "text/plain": [
       "count_increasing (generic function with 1 method)"
      ]
     },
     "execution_count": 2,
     "metadata": {},
     "output_type": "execute_result"
    }
   ],
   "source": [
    "function window_sum(idx, window_size)\n",
    "    sum(nums[idx - window_size + 1:idx])\n",
    "end\n",
    "\n",
    "function count_increasing(window_size)\n",
    "    result = 0\n",
    "    for idx in window_size + 1:length(nums)\n",
    "        if window_sum(idx, window_size) > window_sum(idx - 1, window_size)\n",
    "            result += 1\n",
    "        end\n",
    "    end\n",
    "    result\n",
    "end"
   ]
  },
  {
   "cell_type": "code",
   "execution_count": 3,
   "id": "5ec952f8",
   "metadata": {},
   "outputs": [
    {
     "name": "stdout",
     "output_type": "stream",
     "text": [
      "easy: 1715\n",
      "hard: 1739\n"
     ]
    }
   ],
   "source": [
    "println(\"easy: \", count_increasing(1))\n",
    "println(\"hard: \", count_increasing(3))"
   ]
  },
  {
   "cell_type": "markdown",
   "id": "3a569f21",
   "metadata": {},
   "source": [
    "## Day 02"
   ]
  },
  {
   "cell_type": "code",
   "execution_count": 4,
   "id": "a327e75a",
   "metadata": {},
   "outputs": [
    {
     "data": {
      "text/plain": [
       "move_submarine (generic function with 1 method)"
      ]
     },
     "execution_count": 4,
     "metadata": {},
     "output_type": "execute_result"
    }
   ],
   "source": [
    "lines = readlines(\"02.txt\")\n",
    "\n",
    "function move_submarine(is_hard)\n",
    "    Δx, Δy = 0, 0\n",
    "    aim = 0\n",
    "\n",
    "    for line in lines\n",
    "        action, arg = split(line)\n",
    "        arg = parse(Int, arg)\n",
    "\n",
    "        if action == \"forward\"\n",
    "            Δx += arg\n",
    "            Δy += aim * arg\n",
    "        else\n",
    "            inc = action == \"down\" ? arg : -arg\n",
    "            if is_hard\n",
    "                aim += inc\n",
    "            else\n",
    "                Δy += inc\n",
    "            end\n",
    "        end\n",
    "    end\n",
    "    \n",
    "    Δx * Δy\n",
    "end"
   ]
  },
  {
   "cell_type": "code",
   "execution_count": 5,
   "id": "e8ca9ae0",
   "metadata": {},
   "outputs": [
    {
     "name": "stdout",
     "output_type": "stream",
     "text": [
      "easy: 1714950\n",
      "hard: 1281977850\n"
     ]
    }
   ],
   "source": [
    "println(\"easy: \", move_submarine(false))\n",
    "println(\"hard: \", move_submarine(true))"
   ]
  },
  {
   "cell_type": "markdown",
   "id": "707c5249",
   "metadata": {},
   "source": [
    "## Day 03\n",
    "\n",
    "`mcb` stands for Most Common Bit. "
   ]
  },
  {
   "cell_type": "code",
   "execution_count": 6,
   "id": "b89219c0",
   "metadata": {},
   "outputs": [
    {
     "name": "stdout",
     "output_type": "stream",
     "text": [
      "easy: 2640986\n",
      "hard: 6822109\n"
     ]
    }
   ],
   "source": [
    "lines = readlines(\"03.txt\")\n",
    "n_bits = length(lines[1])\n",
    "all_nums = reduce(vcat, permutedims.(collect.(lines)))\n",
    "\n",
    "function get_mcb(nums, bit_idx, should_invert)\n",
    "    n_ones = count(==('1'), nums[:, bit_idx])\n",
    "    ones_are_mcb = 2 * n_ones >= size(nums, 1)\n",
    "    (ones_are_mcb ⊻ should_invert) ? '1' : '0'\n",
    "end\n",
    "\n",
    "from_chars(x) = parse(Int, join(x), base=2)\n",
    "\n",
    "function day03_easy()\n",
    "    function get_rate(should_invert)\n",
    "        from_chars([\n",
    "            get_mcb(all_nums, bit_idx, should_invert)\n",
    "            for bit_idx in 1:n_bits\n",
    "        ])\n",
    "    end\n",
    "\n",
    "    γ_rate = get_rate(false)\n",
    "    ϵ_rate = get_rate(true)\n",
    "    γ_rate * ϵ_rate\n",
    "end\n",
    "\n",
    "function day03_hard()\n",
    "    function get_rating(should_invert)\n",
    "        cur_nums = all_nums\n",
    "        bit_idx = 1\n",
    "\n",
    "        while size(cur_nums, 1) > 1\n",
    "            needed_bit = get_mcb(cur_nums, bit_idx, should_invert)\n",
    "            cur_nums = cur_nums[cur_nums[:, bit_idx] .== needed_bit, :]\n",
    "            bit_idx += 1\n",
    "        end\n",
    "        \n",
    "        from_chars(cur_nums)\n",
    "    end\n",
    "    \n",
    "    o₂_rating = get_rating(false)\n",
    "    co₂_rating = get_rating(true)\n",
    "    o₂_rating * co₂_rating\n",
    "end\n",
    "\n",
    "println(\"easy: \", day03_easy())\n",
    "println(\"hard: \", day03_hard())"
   ]
  },
  {
   "cell_type": "markdown",
   "id": "c7ba838e",
   "metadata": {},
   "source": [
    "## Day 04\n",
    "\n",
    "Keep the board states in a `5 x 5 x BOARD_COUNT` array. When a number `N` is drawn, replace all occurrences of `N` with `-1`."
   ]
  },
  {
   "cell_type": "code",
   "execution_count": 17,
   "id": "f1dd95c4",
   "metadata": {},
   "outputs": [
    {
     "name": "stdout",
     "output_type": "stream",
     "text": [
      "easy: 44088\n",
      "hard: 23670\n"
     ]
    }
   ],
   "source": [
    "using DelimitedFiles\n",
    "\n",
    "const N = 5\n",
    "\n",
    "day04_file = open(\"04.txt\")\n",
    "numbers = parse.(Int, split(readline(day04_file), ','))\n",
    "boards = permutedims(\n",
    "    reshape(readdlm(day04_file, Int), N, :, N),\n",
    "    (1, 3, 2),\n",
    ")\n",
    "\n",
    "function wins(board_idx)\n",
    "    any(\n",
    "        all(boards[:, idx, board_idx] .< 0) || all(boards[idx, :, board_idx] .< 0)\n",
    "        for idx in 1:N\n",
    "    )\n",
    "end\n",
    "\n",
    "function score(board_idx, drawn_number)\n",
    "    drawn_number * sum(filter(>=(0), boards[:, :, board_idx]))\n",
    "end\n",
    "\n",
    "live_boards = Set(1:size(boards, 3))\n",
    "easy_answer, hard_answer = nothing, nothing\n",
    "for num in numbers\n",
    "    boards[boards .== num] .= -1\n",
    "    winning_boards = Set(idx for idx in live_boards if wins(idx))\n",
    "    if length(winning_boards) == 1\n",
    "        current_score = score(first(winning_boards), num)\n",
    "        if isnothing(easy_answer)\n",
    "            easy_answer = current_score\n",
    "        end\n",
    "        hard_answer = current_score\n",
    "    end\n",
    "    setdiff!(live_boards, winning_boards)\n",
    "end\n",
    "\n",
    "println(\"easy: \", easy_answer)\n",
    "println(\"hard: \", hard_answer)"
   ]
  },
  {
   "cell_type": "markdown",
   "id": "39f454fa",
   "metadata": {},
   "source": [
    "## Day 05"
   ]
  },
  {
   "cell_type": "code",
   "execution_count": 75,
   "id": "0c73543a",
   "metadata": {},
   "outputs": [
    {
     "name": "stdout",
     "output_type": "stream",
     "text": [
      "easy: 5585\n",
      "hard: 17193\n"
     ]
    }
   ],
   "source": [
    "segments = open(\"05.txt\") do f\n",
    "    map(readlines(f)) do line\n",
    "        split(line, \" -> \") .|> x -> split(x, \",\") .|> x -> parse(Int, x)\n",
    "    end\n",
    "end\n",
    "\n",
    "function count_overlaps(include_diagonals)\n",
    "    counts = Dict()\n",
    "    \n",
    "    function add_point(x, y)\n",
    "        counts[(x, y)] = get!(counts, (x, y), 0) + 1\n",
    "    end\n",
    "    \n",
    "    for ((x1, y1), (x2, y2)) in segments\n",
    "        Δx, Δy = sign(x2 - x1), sign(y2 - y1)\n",
    "        if include_diagonals || (Δx == 0 || Δy == 0)\n",
    "            while x1 != x2 || y1 != y2\n",
    "                add_point(x1, y1)\n",
    "                x1 += Δx\n",
    "                y1 += Δy\n",
    "            end\n",
    "            add_point(x1, y1)\n",
    "        end\n",
    "    end\n",
    "    \n",
    "    count(>(1), values(counts))\n",
    "end\n",
    "\n",
    "\n",
    "println(\"easy: \", count_overlaps(false))\n",
    "println(\"hard: \", count_overlaps(true))"
   ]
  },
  {
   "cell_type": "markdown",
   "id": "ba6719d2",
   "metadata": {},
   "source": [
    "## Day 06"
   ]
  },
  {
   "cell_type": "code",
   "execution_count": 112,
   "id": "7d6ae34d",
   "metadata": {},
   "outputs": [
    {
     "name": "stdout",
     "output_type": "stream",
     "text": [
      "easy: 380758\n",
      "hard: 1710623015163\n"
     ]
    }
   ],
   "source": [
    "set_count(counts, idx, val) = counts[idx + 1] = val\n",
    "get_count(counts, idx) = counts[idx + 1]\n",
    "inc_count(counts, idx, by) = set_count(counts, idx, by + get_count(counts, idx))\n",
    "\n",
    "function initial_counts()\n",
    "    res = zeros(Int, 9)\n",
    "    for f in parse.(Int, split(readline(\"06.txt\"), ','))\n",
    "        inc_count(res, f, 1)\n",
    "    end\n",
    "    res\n",
    "end\n",
    "\n",
    "function step(counts)\n",
    "    res = [\n",
    "        get_count(counts, mod(idx + 1, 9))\n",
    "        for idx in 0:8\n",
    "    ]\n",
    "    inc_count(res, 6, get_count(counts, 0))\n",
    "    res\n",
    "end\n",
    "\n",
    "function iterate_steps(n)\n",
    "    res = initial_counts()\n",
    "    for _ in 1:n\n",
    "        res = step(res)\n",
    "    end\n",
    "    sum(res)\n",
    "end\n",
    "\n",
    "println(\"easy: \", iterate_steps(80))\n",
    "println(\"hard: \", iterate_steps(256))"
   ]
  }
 ],
 "metadata": {
  "kernelspec": {
   "display_name": "Julia 1.7.1",
   "language": "julia",
   "name": "julia-1.7"
  },
  "language_info": {
   "file_extension": ".jl",
   "mimetype": "application/julia",
   "name": "julia",
   "version": "1.7.1"
  }
 },
 "nbformat": 4,
 "nbformat_minor": 5
}

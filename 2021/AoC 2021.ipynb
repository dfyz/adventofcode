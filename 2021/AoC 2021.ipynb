{
 "cells": [
  {
   "cell_type": "markdown",
   "id": "bfb1ab50",
   "metadata": {},
   "source": [
    "## Day 01"
   ]
  },
  {
   "cell_type": "code",
   "execution_count": 63,
   "id": "d0b55599",
   "metadata": {},
   "outputs": [],
   "source": [
    "nums = parse.(Int, readlines(\"01.txt\"))\n",
    "@assert nums[end] == 10044"
   ]
  },
  {
   "cell_type": "code",
   "execution_count": 54,
   "id": "1edbdb06",
   "metadata": {},
   "outputs": [
    {
     "data": {
      "text/plain": [
       "count_increasing (generic function with 1 method)"
      ]
     },
     "execution_count": 54,
     "metadata": {},
     "output_type": "execute_result"
    }
   ],
   "source": [
    "function window_sum(idx, window_size)\n",
    "    sum(nums[idx - window_size + 1:idx])\n",
    "end\n",
    "\n",
    "function count_increasing(window_size)\n",
    "    result = 0\n",
    "    for idx in window_size + 1:length(nums)\n",
    "        if window_sum(idx, window_size) > window_sum(idx - 1, window_size)\n",
    "            result += 1\n",
    "        end\n",
    "    end\n",
    "    result\n",
    "end"
   ]
  },
  {
   "cell_type": "code",
   "execution_count": 56,
   "id": "915e55ba",
   "metadata": {},
   "outputs": [
    {
     "name": "stdout",
     "output_type": "stream",
     "text": [
      "easy: 1715\n",
      "hard: 1739\n"
     ]
    }
   ],
   "source": [
    "println(\"easy: \", count_increasing(1))\n",
    "println(\"hard: \", count_increasing(3))"
   ]
  },
  {
   "cell_type": "markdown",
   "id": "eeca041c",
   "metadata": {},
   "source": [
    "## Day 02"
   ]
  },
  {
   "cell_type": "code",
   "execution_count": 86,
   "id": "e0830858",
   "metadata": {},
   "outputs": [
    {
     "data": {
      "text/plain": [
       "move_submarine (generic function with 2 methods)"
      ]
     },
     "execution_count": 86,
     "metadata": {},
     "output_type": "execute_result"
    }
   ],
   "source": [
    "lines = readlines(\"02.txt\")\n",
    "\n",
    "function move_submarine(is_hard)\n",
    "    Δx, Δy = 0, 0\n",
    "    aim = 0\n",
    "\n",
    "    for line in lines\n",
    "        action, arg = split(line)\n",
    "        arg = parse(Int, arg)\n",
    "\n",
    "        if action == \"forward\"\n",
    "            Δx += arg\n",
    "            Δy += aim * arg\n",
    "        else\n",
    "            inc = action == \"down\" ? arg : -arg\n",
    "            if is_hard\n",
    "                aim += inc\n",
    "            else\n",
    "                Δy += inc\n",
    "            end\n",
    "        end\n",
    "    end\n",
    "    \n",
    "    Δx * Δy\n",
    "end"
   ]
  },
  {
   "cell_type": "code",
   "execution_count": 87,
   "id": "df06005c",
   "metadata": {},
   "outputs": [
    {
     "name": "stdout",
     "output_type": "stream",
     "text": [
      "easy: 1714950\n",
      "hard: 1281977850\n"
     ]
    }
   ],
   "source": [
    "println(\"easy: \", move_submarine(false))\n",
    "println(\"hard: \", move_submarine(true))"
   ]
  }
 ],
 "metadata": {
  "kernelspec": {
   "display_name": "Julia 1.7.1",
   "language": "julia",
   "name": "julia-1.7"
  },
  "language_info": {
   "file_extension": ".jl",
   "mimetype": "application/julia",
   "name": "julia",
   "version": "1.7.1"
  }
 },
 "nbformat": 4,
 "nbformat_minor": 5
}

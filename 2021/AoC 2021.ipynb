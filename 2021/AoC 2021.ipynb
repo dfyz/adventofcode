{
 "cells": [
  {
   "cell_type": "markdown",
   "id": "a3a5cd3b",
   "metadata": {},
   "source": [
    "## Day 01"
   ]
  },
  {
   "cell_type": "code",
   "execution_count": 63,
   "id": "1d038b5c",
   "metadata": {},
   "outputs": [],
   "source": [
    "nums = parse.(Int, readlines(\"01.txt\"))\n",
    "@assert nums[end] == 10044"
   ]
  },
  {
   "cell_type": "code",
   "execution_count": 54,
   "id": "417df755",
   "metadata": {},
   "outputs": [
    {
     "data": {
      "text/plain": [
       "count_increasing (generic function with 1 method)"
      ]
     },
     "execution_count": 54,
     "metadata": {},
     "output_type": "execute_result"
    }
   ],
   "source": [
    "function window_sum(idx, window_size)\n",
    "    sum(nums[idx - window_size + 1:idx])\n",
    "end\n",
    "\n",
    "function count_increasing(window_size)\n",
    "    result = 0\n",
    "    for idx in window_size + 1:length(nums)\n",
    "        if window_sum(idx, window_size) > window_sum(idx - 1, window_size)\n",
    "            result += 1\n",
    "        end\n",
    "    end\n",
    "    result\n",
    "end"
   ]
  },
  {
   "cell_type": "code",
   "execution_count": 56,
   "id": "2c7be339",
   "metadata": {},
   "outputs": [
    {
     "name": "stdout",
     "output_type": "stream",
     "text": [
      "easy: 1715\n",
      "hard: 1739\n"
     ]
    }
   ],
   "source": [
    "println(\"easy: \", count_increasing(1))\n",
    "println(\"hard: \", count_increasing(3))"
   ]
  },
  {
   "cell_type": "markdown",
   "id": "25d13455",
   "metadata": {},
   "source": [
    "## Day 02"
   ]
  },
  {
   "cell_type": "code",
   "execution_count": 86,
   "id": "6240ea12",
   "metadata": {},
   "outputs": [
    {
     "data": {
      "text/plain": [
       "move_submarine (generic function with 2 methods)"
      ]
     },
     "execution_count": 86,
     "metadata": {},
     "output_type": "execute_result"
    }
   ],
   "source": [
    "lines = readlines(\"02.txt\")\n",
    "\n",
    "function move_submarine(is_hard)\n",
    "    Δx, Δy = 0, 0\n",
    "    aim = 0\n",
    "\n",
    "    for line in lines\n",
    "        action, arg = split(line)\n",
    "        arg = parse(Int, arg)\n",
    "\n",
    "        if action == \"forward\"\n",
    "            Δx += arg\n",
    "            Δy += aim * arg\n",
    "        else\n",
    "            inc = action == \"down\" ? arg : -arg\n",
    "            if is_hard\n",
    "                aim += inc\n",
    "            else\n",
    "                Δy += inc\n",
    "            end\n",
    "        end\n",
    "    end\n",
    "    \n",
    "    Δx * Δy\n",
    "end"
   ]
  },
  {
   "cell_type": "code",
   "execution_count": 88,
   "id": "cdfb21fd",
   "metadata": {},
   "outputs": [
    {
     "name": "stdout",
     "output_type": "stream",
     "text": [
      "easy: 1714950\n",
      "hard: 1281977850\n"
     ]
    }
   ],
   "source": [
    "println(\"easy: \", move_submarine(false))\n",
    "println(\"hard: \", move_submarine(true))"
   ]
  },
  {
   "cell_type": "markdown",
   "id": "2670a5fe",
   "metadata": {},
   "source": [
    "## Day 03\n",
    "\n",
    "`mcb` stands for Most Common Bit. "
   ]
  },
  {
   "cell_type": "code",
   "execution_count": 160,
   "id": "ae426b69",
   "metadata": {},
   "outputs": [
    {
     "name": "stdout",
     "output_type": "stream",
     "text": [
      "easy: 2640986\n",
      "hard: 6822109\n"
     ]
    }
   ],
   "source": [
    "lines = readlines(\"03.txt\")\n",
    "n_bits = length(lines[1])\n",
    "\n",
    "all_nums = parse.(Int, lines, base = 2)\n",
    "\n",
    "function get_mcbs(nums)\n",
    "    counts = zeros(Int, n_bits)\n",
    "\n",
    "    for n in nums\n",
    "        bit_idx = 1\n",
    "        while n > 0\n",
    "            if n & 1 != 0\n",
    "                counts[bit_idx] += 1\n",
    "            end\n",
    "            bit_idx += 1\n",
    "            n >>= 1\n",
    "        end\n",
    "    end\n",
    "\n",
    "    [\n",
    "        2 * counts[bit_idx] >= length(nums) ? 1 : 0\n",
    "        for bit_idx in 1:length(counts)\n",
    "    ]\n",
    "end\n",
    "\n",
    "function day03_easy()\n",
    "    γ_rate, ϵ_rate = 0, 0\n",
    "    mcbs = get_mcbs(all_nums)\n",
    "\n",
    "    for bit_idx in 1:n_bits\n",
    "        accum = 1 << (bit_idx - 1)\n",
    "        if mcbs[bit_idx] == 1\n",
    "            γ_rate |= accum\n",
    "        else\n",
    "            ϵ_rate |= accum\n",
    "        end\n",
    "    end\n",
    "    \n",
    "    γ_rate * ϵ_rate\n",
    "end\n",
    "\n",
    "function good_for_rating(x, bit_idx, mcbs, track_mcb)\n",
    "    cur_bit = x & (1 << (bit_idx - 1)) != 0 ? 1 : 0\n",
    "    mcb = mcbs[bit_idx]\n",
    "    \n",
    "    if track_mcb\n",
    "        cur_bit == mcb\n",
    "    else\n",
    "        cur_bit != mcb\n",
    "    end\n",
    "end\n",
    "\n",
    "function get_rating(track_mcb)\n",
    "    cur_nums = all_nums\n",
    "    \n",
    "    bit_idx = n_bits\n",
    "    while length(cur_nums) > 1\n",
    "        cur_nums = filter(\n",
    "            x -> good_for_rating(\n",
    "                x, bit_idx, get_mcbs(cur_nums), track_mcb\n",
    "            ),\n",
    "            cur_nums,\n",
    "        )\n",
    "        bit_idx -= 1\n",
    "    end\n",
    "    \n",
    "    cur_nums[1]\n",
    "end\n",
    "\n",
    "function day03_hard()\n",
    "    o₂_rating = get_rating(true)\n",
    "    co₂_rating = get_rating(false)\n",
    "    \n",
    "    o₂_rating * co₂_rating\n",
    "end\n",
    "\n",
    "println(\"easy: \", day03_easy())\n",
    "println(\"hard: \", day03_hard())"
   ]
  }
 ],
 "metadata": {
  "kernelspec": {
   "display_name": "Julia 1.7.1",
   "language": "julia",
   "name": "julia-1.7"
  },
  "language_info": {
   "file_extension": ".jl",
   "mimetype": "application/julia",
   "name": "julia",
   "version": "1.7.1"
  }
 },
 "nbformat": 4,
 "nbformat_minor": 5
}

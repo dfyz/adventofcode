{
 "cells": [
  {
   "cell_type": "markdown",
   "id": "1214dc52",
   "metadata": {},
   "source": [
    "## Day 01"
   ]
  },
  {
   "cell_type": "code",
   "execution_count": 53,
   "id": "908be6af",
   "metadata": {},
   "outputs": [],
   "source": [
    "nums = map(\n",
    "    x -> parse(Int, x),\n",
    "    readlines(open(\"01.txt\"))\n",
    ")\n",
    "@assert nums[end] == 10044"
   ]
  },
  {
   "cell_type": "code",
   "execution_count": 54,
   "id": "52dc5271",
   "metadata": {},
   "outputs": [
    {
     "data": {
      "text/plain": [
       "count_increasing (generic function with 1 method)"
      ]
     },
     "execution_count": 54,
     "metadata": {},
     "output_type": "execute_result"
    }
   ],
   "source": [
    "function window_sum(idx, window_size)\n",
    "    sum(nums[idx - window_size + 1:idx])\n",
    "end\n",
    "\n",
    "function count_increasing(window_size)\n",
    "    result = 0\n",
    "    for idx in window_size + 1:length(nums)\n",
    "        if window_sum(idx, window_size) > window_sum(idx - 1, window_size)\n",
    "            result += 1\n",
    "        end\n",
    "    end\n",
    "    result\n",
    "end"
   ]
  },
  {
   "cell_type": "code",
   "execution_count": 55,
   "id": "a6672bed",
   "metadata": {},
   "outputs": [
    {
     "name": "stdout",
     "output_type": "stream",
     "text": [
      "easy: 1715\n",
      "hard: 1739\n"
     ]
    }
   ],
   "source": [
    "println(\"easy: \", count_increasing(1))\n",
    "println(\"hard: \", count_increasing(3))"
   ]
  }
 ],
 "metadata": {
  "kernelspec": {
   "display_name": "Julia 1.7.1",
   "language": "julia",
   "name": "julia-1.7"
  },
  "language_info": {
   "file_extension": ".jl",
   "mimetype": "application/julia",
   "name": "julia",
   "version": "1.7.1"
  }
 },
 "nbformat": 4,
 "nbformat_minor": 5
}
